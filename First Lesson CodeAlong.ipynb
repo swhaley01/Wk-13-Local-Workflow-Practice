{
 "cells": [
  {
   "cell_type": "markdown",
   "id": "bc53d8e8",
   "metadata": {},
   "source": [
    "# First code along"
   ]
  },
  {
   "cell_type": "code",
   "execution_count": 1,
   "id": "cb8dd1ac",
   "metadata": {},
   "outputs": [
    {
     "data": {
      "text/plain": [
       "15"
      ]
     },
     "execution_count": 1,
     "metadata": {},
     "output_type": "execute_result"
    }
   ],
   "source": [
    "5+10"
   ]
  },
  {
   "cell_type": "markdown",
   "id": "64d2a5ff",
   "metadata": {},
   "source": [
    "## Imports"
   ]
  },
  {
   "cell_type": "code",
   "execution_count": 2,
   "id": "e9635239",
   "metadata": {},
   "outputs": [],
   "source": [
    "import pandas as pd\n",
    "import seaborn as sns\n",
    "import matplotlib.pyplot as plt"
   ]
  },
  {
   "cell_type": "code",
   "execution_count": 3,
   "id": "a22856f4",
   "metadata": {},
   "outputs": [
    {
     "data": {
      "text/html": [
       "<div>\n",
       "<style scoped>\n",
       "    .dataframe tbody tr th:only-of-type {\n",
       "        vertical-align: middle;\n",
       "    }\n",
       "\n",
       "    .dataframe tbody tr th {\n",
       "        vertical-align: top;\n",
       "    }\n",
       "\n",
       "    .dataframe thead th {\n",
       "        text-align: right;\n",
       "    }\n",
       "</style>\n",
       "<table border=\"1\" class=\"dataframe\">\n",
       "  <thead>\n",
       "    <tr style=\"text-align: right;\">\n",
       "      <th></th>\n",
       "      <th>index</th>\n",
       "      <th>Job Title</th>\n",
       "      <th>Salary Estimate</th>\n",
       "      <th>Job Description</th>\n",
       "      <th>Rating</th>\n",
       "      <th>Company Name</th>\n",
       "      <th>Location</th>\n",
       "      <th>Headquarters</th>\n",
       "      <th>Size</th>\n",
       "      <th>Founded</th>\n",
       "      <th>...</th>\n",
       "      <th>tensor</th>\n",
       "      <th>hadoop</th>\n",
       "      <th>tableau</th>\n",
       "      <th>bi</th>\n",
       "      <th>flink</th>\n",
       "      <th>mongo</th>\n",
       "      <th>google_an</th>\n",
       "      <th>job_title_sim</th>\n",
       "      <th>seniority_by_title</th>\n",
       "      <th>Degree</th>\n",
       "    </tr>\n",
       "  </thead>\n",
       "  <tbody>\n",
       "    <tr>\n",
       "      <th>0</th>\n",
       "      <td>0</td>\n",
       "      <td>Data Scientist</td>\n",
       "      <td>$53K-$91K (Glassdoor est.)</td>\n",
       "      <td>Data Scientist\\nLocation: Albuquerque, NM\\nEdu...</td>\n",
       "      <td>3.8</td>\n",
       "      <td>Tecolote Research\\n3.8</td>\n",
       "      <td>Albuquerque, NM</td>\n",
       "      <td>Goleta, CA</td>\n",
       "      <td>501 - 1000</td>\n",
       "      <td>1973</td>\n",
       "      <td>...</td>\n",
       "      <td>0</td>\n",
       "      <td>0</td>\n",
       "      <td>1</td>\n",
       "      <td>1</td>\n",
       "      <td>0</td>\n",
       "      <td>0</td>\n",
       "      <td>0</td>\n",
       "      <td>data scientist</td>\n",
       "      <td>na</td>\n",
       "      <td>M</td>\n",
       "    </tr>\n",
       "    <tr>\n",
       "      <th>1</th>\n",
       "      <td>1</td>\n",
       "      <td>Healthcare Data Scientist</td>\n",
       "      <td>$63K-$112K (Glassdoor est.)</td>\n",
       "      <td>What You Will Do:\\n\\nI. General Summary\\n\\nThe...</td>\n",
       "      <td>3.4</td>\n",
       "      <td>University of Maryland Medical System\\n3.4</td>\n",
       "      <td>Linthicum, MD</td>\n",
       "      <td>Baltimore, MD</td>\n",
       "      <td>10000+</td>\n",
       "      <td>1984</td>\n",
       "      <td>...</td>\n",
       "      <td>0</td>\n",
       "      <td>0</td>\n",
       "      <td>0</td>\n",
       "      <td>0</td>\n",
       "      <td>0</td>\n",
       "      <td>0</td>\n",
       "      <td>0</td>\n",
       "      <td>data scientist</td>\n",
       "      <td>na</td>\n",
       "      <td>M</td>\n",
       "    </tr>\n",
       "    <tr>\n",
       "      <th>2</th>\n",
       "      <td>2</td>\n",
       "      <td>Data Scientist</td>\n",
       "      <td>$80K-$90K (Glassdoor est.)</td>\n",
       "      <td>KnowBe4, Inc. is a high growth information sec...</td>\n",
       "      <td>4.8</td>\n",
       "      <td>KnowBe4\\n4.8</td>\n",
       "      <td>Clearwater, FL</td>\n",
       "      <td>Clearwater, FL</td>\n",
       "      <td>501 - 1000</td>\n",
       "      <td>2010</td>\n",
       "      <td>...</td>\n",
       "      <td>0</td>\n",
       "      <td>0</td>\n",
       "      <td>0</td>\n",
       "      <td>0</td>\n",
       "      <td>0</td>\n",
       "      <td>0</td>\n",
       "      <td>0</td>\n",
       "      <td>data scientist</td>\n",
       "      <td>na</td>\n",
       "      <td>M</td>\n",
       "    </tr>\n",
       "    <tr>\n",
       "      <th>3</th>\n",
       "      <td>3</td>\n",
       "      <td>Data Scientist</td>\n",
       "      <td>$56K-$97K (Glassdoor est.)</td>\n",
       "      <td>*Organization and Job ID**\\nJob ID: 310709\\n\\n...</td>\n",
       "      <td>3.8</td>\n",
       "      <td>PNNL\\n3.8</td>\n",
       "      <td>Richland, WA</td>\n",
       "      <td>Richland, WA</td>\n",
       "      <td>1001 - 5000</td>\n",
       "      <td>1965</td>\n",
       "      <td>...</td>\n",
       "      <td>0</td>\n",
       "      <td>0</td>\n",
       "      <td>0</td>\n",
       "      <td>0</td>\n",
       "      <td>0</td>\n",
       "      <td>0</td>\n",
       "      <td>0</td>\n",
       "      <td>data scientist</td>\n",
       "      <td>na</td>\n",
       "      <td>na</td>\n",
       "    </tr>\n",
       "    <tr>\n",
       "      <th>4</th>\n",
       "      <td>4</td>\n",
       "      <td>Data Scientist</td>\n",
       "      <td>$86K-$143K (Glassdoor est.)</td>\n",
       "      <td>Data Scientist\\nAffinity Solutions / Marketing...</td>\n",
       "      <td>2.9</td>\n",
       "      <td>Affinity Solutions\\n2.9</td>\n",
       "      <td>New York, NY</td>\n",
       "      <td>New York, NY</td>\n",
       "      <td>51 - 200</td>\n",
       "      <td>1998</td>\n",
       "      <td>...</td>\n",
       "      <td>0</td>\n",
       "      <td>0</td>\n",
       "      <td>0</td>\n",
       "      <td>0</td>\n",
       "      <td>0</td>\n",
       "      <td>0</td>\n",
       "      <td>0</td>\n",
       "      <td>data scientist</td>\n",
       "      <td>na</td>\n",
       "      <td>na</td>\n",
       "    </tr>\n",
       "  </tbody>\n",
       "</table>\n",
       "<p>5 rows × 42 columns</p>\n",
       "</div>"
      ],
      "text/plain": [
       "   index                  Job Title              Salary Estimate  \\\n",
       "0      0             Data Scientist   $53K-$91K (Glassdoor est.)   \n",
       "1      1  Healthcare Data Scientist  $63K-$112K (Glassdoor est.)   \n",
       "2      2             Data Scientist   $80K-$90K (Glassdoor est.)   \n",
       "3      3             Data Scientist   $56K-$97K (Glassdoor est.)   \n",
       "4      4             Data Scientist  $86K-$143K (Glassdoor est.)   \n",
       "\n",
       "                                     Job Description  Rating  \\\n",
       "0  Data Scientist\\nLocation: Albuquerque, NM\\nEdu...     3.8   \n",
       "1  What You Will Do:\\n\\nI. General Summary\\n\\nThe...     3.4   \n",
       "2  KnowBe4, Inc. is a high growth information sec...     4.8   \n",
       "3  *Organization and Job ID**\\nJob ID: 310709\\n\\n...     3.8   \n",
       "4  Data Scientist\\nAffinity Solutions / Marketing...     2.9   \n",
       "\n",
       "                                 Company Name         Location  \\\n",
       "0                      Tecolote Research\\n3.8  Albuquerque, NM   \n",
       "1  University of Maryland Medical System\\n3.4    Linthicum, MD   \n",
       "2                                KnowBe4\\n4.8   Clearwater, FL   \n",
       "3                                   PNNL\\n3.8     Richland, WA   \n",
       "4                     Affinity Solutions\\n2.9     New York, NY   \n",
       "\n",
       "     Headquarters         Size  Founded  ... tensor hadoop tableau bi flink  \\\n",
       "0      Goleta, CA   501 - 1000     1973  ...      0      0       1  1     0   \n",
       "1   Baltimore, MD       10000+     1984  ...      0      0       0  0     0   \n",
       "2  Clearwater, FL   501 - 1000     2010  ...      0      0       0  0     0   \n",
       "3    Richland, WA  1001 - 5000     1965  ...      0      0       0  0     0   \n",
       "4    New York, NY     51 - 200     1998  ...      0      0       0  0     0   \n",
       "\n",
       "   mongo  google_an   job_title_sim  seniority_by_title  Degree  \n",
       "0      0          0  data scientist                  na       M  \n",
       "1      0          0  data scientist                  na       M  \n",
       "2      0          0  data scientist                  na       M  \n",
       "3      0          0  data scientist                  na      na  \n",
       "4      0          0  data scientist                  na      na  \n",
       "\n",
       "[5 rows x 42 columns]"
      ]
     },
     "execution_count": 3,
     "metadata": {},
     "output_type": "execute_result"
    }
   ],
   "source": [
    "df = pd.read_csv('Data/data_science_salary_2021 - data_science_salary_2021.csv')\n",
    "df.head()"
   ]
  },
  {
   "cell_type": "markdown",
   "id": "b0552c2e",
   "metadata": {},
   "source": [
    "## What is the mean 'Average Salary'"
   ]
  },
  {
   "cell_type": "code",
   "execution_count": 4,
   "id": "97fa2886",
   "metadata": {},
   "outputs": [
    {
     "name": "stdout",
     "output_type": "stream",
     "text": [
      "<class 'pandas.core.frame.DataFrame'>\n",
      "RangeIndex: 742 entries, 0 to 741\n",
      "Data columns (total 42 columns):\n",
      " #   Column              Non-Null Count  Dtype  \n",
      "---  ------              --------------  -----  \n",
      " 0   index               742 non-null    int64  \n",
      " 1   Job Title           742 non-null    object \n",
      " 2   Salary Estimate     742 non-null    object \n",
      " 3   Job Description     742 non-null    object \n",
      " 4   Rating              742 non-null    float64\n",
      " 5   Company Name        742 non-null    object \n",
      " 6   Location            742 non-null    object \n",
      " 7   Headquarters        742 non-null    object \n",
      " 8   Size                742 non-null    object \n",
      " 9   Founded             742 non-null    int64  \n",
      " 10  Type of ownership   742 non-null    object \n",
      " 11  Industry            742 non-null    object \n",
      " 12  Sector              742 non-null    object \n",
      " 13  Revenue             742 non-null    object \n",
      " 14  Competitors         742 non-null    object \n",
      " 15  Hourly              742 non-null    int64  \n",
      " 16  Employer provided   742 non-null    int64  \n",
      " 17  Lower Salary        742 non-null    int64  \n",
      " 18  Upper Salary        742 non-null    int64  \n",
      " 19  Avg Salary(K)       742 non-null    float64\n",
      " 20  company_txt         742 non-null    object \n",
      " 21  Job Location        742 non-null    object \n",
      " 22  Age                 742 non-null    int64  \n",
      " 23  Python              742 non-null    int64  \n",
      " 24  spark               742 non-null    int64  \n",
      " 25  aws                 742 non-null    int64  \n",
      " 26  excel               742 non-null    int64  \n",
      " 27  sql                 742 non-null    int64  \n",
      " 28  sas                 742 non-null    int64  \n",
      " 29  keras               742 non-null    int64  \n",
      " 30  pytorch             742 non-null    int64  \n",
      " 31  scikit              742 non-null    int64  \n",
      " 32  tensor              742 non-null    int64  \n",
      " 33  hadoop              742 non-null    int64  \n",
      " 34  tableau             742 non-null    int64  \n",
      " 35  bi                  742 non-null    int64  \n",
      " 36  flink               742 non-null    int64  \n",
      " 37  mongo               742 non-null    int64  \n",
      " 38  google_an           742 non-null    int64  \n",
      " 39  job_title_sim       742 non-null    object \n",
      " 40  seniority_by_title  742 non-null    object \n",
      " 41  Degree              742 non-null    object \n",
      "dtypes: float64(2), int64(23), object(17)\n",
      "memory usage: 243.6+ KB\n"
     ]
    }
   ],
   "source": [
    "df['Avg Salary(K)'].mean()\n",
    "df.info()"
   ]
  },
  {
   "cell_type": "code",
   "execution_count": 5,
   "id": "328251c7",
   "metadata": {},
   "outputs": [
    {
     "data": {
      "image/png": "[encoded data removed]",
      "text/plain": [
       "<Figure size 432x288 with 1 Axes>"
      ]
     },
     "metadata": {
      "needs_background": "light"
     },
     "output_type": "display_data"
    }
   ],
   "source": [
    "ax = sns.barplot(data = df, x = 'job_title_sim', y = 'Avg Salary(K)')\n",
    "ax.set_xticklabels(ax.get_xticklabels(), rotation = 45, ha = 'right');\n",
    "plt.savefig('barplot.png', pad_inches = 1, bbox_inches = 'tight')"
   ]
  },
  {
   "cell_type": "markdown",
   "id": "13d3ad30",
   "metadata": {},
   "source": [
    "![png](barplot.png)"
   ]
  },
  {
   "cell_type": "code",
   "execution_count": null,
   "id": "45ec430f",
   "metadata": {},
   "outputs": [],
   "source": []
  }
 ],
 "metadata": {
  "kernelspec": {
   "display_name": "Python (dojo-env)",
   "language": "python",
   "name": "dojo-env"
  },
  "language_info": {
   "codemirror_mode": {
    "name": "ipython",
    "version": 3
   },
   "file_extension": ".py",
   "mimetype": "text/x-python",
   "name": "python",
   "nbconvert_exporter": "python",
   "pygments_lexer": "ipython3",
   "version": "3.8.13"
  },
  "toc": {
   "base_numbering": 1,
   "nav_menu": {},
   "number_sections": false,
   "sideBar": true,
   "skip_h1_title": false,
   "title_cell": "Table of Contents",
   "title_sidebar": "Contents",
   "toc_cell": false,
   "toc_position": {},
   "toc_section_display": true,
   "toc_window_display": true
  }
 },
 "nbformat": 4,
 "nbformat_minor": 5
}
